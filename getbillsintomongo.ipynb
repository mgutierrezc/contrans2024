{
 "cells": [
  {
   "cell_type": "code",
   "execution_count": 1,
   "metadata": {},
   "outputs": [],
   "source": [
    "from contrans import contrans\n",
    "import numpy as np\n",
    "import pandas as pd\n",
    "import dotenv\n",
    "import os\n",
    "import json\n",
    "import requests \n",
    "import psycopg\n",
    "import sqlite3\n",
    "from sqlalchemy import create_engine    \n",
    "dotenv.load_dotenv()\n",
    "congresskey = os.getenv('congresskey')\n",
    "postgrespassword = os.getenv('POSTGRES_PASSWORD')"
   ]
  },
  {
   "cell_type": "code",
   "execution_count": 2,
   "metadata": {},
   "outputs": [],
   "source": [
    "ct = contrans()"
   ]
  },
  {
   "cell_type": "code",
   "execution_count": 3,
   "metadata": {},
   "outputs": [],
   "source": [
    "# Don't run again with from_scratch=True if you don't want to overwrite\n",
    "mongo_bills = ct.connect_to_mongo(from_scratch=True)"
   ]
  },
  {
   "cell_type": "code",
   "execution_count": 4,
   "metadata": {},
   "outputs": [
    {
     "data": {
      "text/plain": [
       "0      N000188\n",
       "1      Y000064\n",
       "2      W000802\n",
       "3      W000800\n",
       "4      W000779\n",
       "        ...   \n",
       "547    H001038\n",
       "548    S001222\n",
       "549    S001192\n",
       "550    F000062\n",
       "551    S001197\n",
       "Name: bioguideId, Length: 552, dtype: object"
      ]
     },
     "execution_count": 4,
     "metadata": {},
     "output_type": "execute_result"
    }
   ],
   "source": [
    "bioguideIDs = ct.get_bioguideIDs()\n",
    "members = bioguideIDs['bioguideId']\n",
    "members"
   ]
  },
  {
   "cell_type": "code",
   "execution_count": 5,
   "metadata": {},
   "outputs": [
    {
     "name": "stdout",
     "output_type": "stream",
     "text": [
      "Now uploading bills from N000188 to MongoDB\n",
      "Now uploading bills from Y000064 to MongoDB\n",
      "Now uploading bills from W000802 to MongoDB\n",
      "Now uploading bills from W000800 to MongoDB\n",
      "Now uploading bills from W000779 to MongoDB\n",
      "Now uploading bills from W000437 to MongoDB\n",
      "Now uploading bills from V000137 to MongoDB\n",
      "Now uploading bills from W000790 to MongoDB\n",
      "Now uploading bills from T000278 to MongoDB\n",
      "Now uploading bills from W000817 to MongoDB\n",
      "Failed to upload W000817\n",
      "Now uploading bills from W000805 to MongoDB\n",
      "Now uploading bills from V000128 to MongoDB\n",
      "Now uploading bills from T000476 to MongoDB\n",
      "Now uploading bills from T000464 to MongoDB\n",
      "Now uploading bills from T000250 to MongoDB\n",
      "Now uploading bills from S001198 to MongoDB\n",
      "Now uploading bills from S000770 to MongoDB\n",
      "Now uploading bills from S001227 to MongoDB\n",
      "Now uploading bills from S001217 to MongoDB\n",
      "Failed to upload S001217\n",
      "Now uploading bills from S001203 to MongoDB\n",
      "Now uploading bills from S001191 to MongoDB\n",
      "Now uploading bills from S001184 to MongoDB\n",
      "Now uploading bills from S001181 to MongoDB\n",
      "Now uploading bills from S000148 to MongoDB\n",
      "Now uploading bills from S001194 to MongoDB\n",
      "Now uploading bills from R000595 to MongoDB\n",
      "Now uploading bills from S000033 to MongoDB\n",
      "Now uploading bills from R000615 to MongoDB\n",
      "Now uploading bills from R000608 to MongoDB\n",
      "Now uploading bills from R000605 to MongoDB\n",
      "Now uploading bills from R000584 to MongoDB\n",
      "Now uploading bills from R000618 to MongoDB\n",
      "Now uploading bills from P000145 to MongoDB\n",
      "Now uploading bills from P000603 to MongoDB\n",
      "Failed to upload P000603\n",
      "Now uploading bills from P000595 to MongoDB\n",
      "Failed to upload P000595\n",
      "Now uploading bills from R000122 to MongoDB\n",
      "Failed to upload R000122\n",
      "Now uploading bills from O000174 to MongoDB\n",
      "Failed to upload O000174\n",
      "Now uploading bills from M001169 to MongoDB\n"
     ]
    }
   ],
   "source": [
    "ct.upload_many_members_to_mongo(mongo_bills, members)"
   ]
  }
 ],
 "metadata": {
  "kernelspec": {
   "display_name": "DEng Assignments Env",
   "language": "python",
   "name": "deng_env"
  },
  "language_info": {
   "codemirror_mode": {
    "name": "ipython",
    "version": 3
   },
   "file_extension": ".py",
   "mimetype": "text/x-python",
   "name": "python",
   "nbconvert_exporter": "python",
   "pygments_lexer": "ipython3",
   "version": "3.12.5"
  }
 },
 "nbformat": 4,
 "nbformat_minor": 2
}
