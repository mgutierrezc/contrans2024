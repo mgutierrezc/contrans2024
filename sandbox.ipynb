{
 "cells": [
  {
   "cell_type": "code",
   "execution_count": 1,
   "id": "89bf4d60-fcde-4d40-97c5-8a118fac9e85",
   "metadata": {},
   "outputs": [],
   "source": [
    "from contrans import contrans"
   ]
  },
  {
   "cell_type": "code",
   "execution_count": 2,
   "id": "ad92c816-5dab-40d1-81d9-d3fa03b28871",
   "metadata": {},
   "outputs": [],
   "source": [
    "import numpy as np\n",
    "import pandas as pd"
   ]
  },
  {
   "cell_type": "code",
   "execution_count": 3,
   "id": "aed66046-245e-4fc5-9423-b462931066b0",
   "metadata": {},
   "outputs": [
    {
     "data": {
      "text/plain": [
       "'olivegardenunlimitedbreadsticks'"
      ]
     },
     "execution_count": 3,
     "metadata": {},
     "output_type": "execute_result"
    }
   ],
   "source": [
    "ct = contrans()\n",
    "ct.mypassword"
   ]
  },
  {
   "cell_type": "code",
   "execution_count": 13,
   "id": "55319de9-bc8e-446f-bfda-41fc0412683a",
   "metadata": {},
   "outputs": [],
   "source": [
    "house = ct.get_votes()"
   ]
  },
  {
   "cell_type": "code",
   "execution_count": 14,
   "id": "4339d615-42f6-448f-9ae7-3038f1ae6056",
   "metadata": {},
   "outputs": [
    {
     "data": {
      "text/html": [
       "<div>\n",
       "<style scoped>\n",
       "    .dataframe tbody tr th:only-of-type {\n",
       "        vertical-align: middle;\n",
       "    }\n",
       "\n",
       "    .dataframe tbody tr th {\n",
       "        vertical-align: top;\n",
       "    }\n",
       "\n",
       "    .dataframe thead th {\n",
       "        text-align: right;\n",
       "    }\n",
       "</style>\n",
       "<table border=\"1\" class=\"dataframe\">\n",
       "  <thead>\n",
       "    <tr style=\"text-align: right;\">\n",
       "      <th></th>\n",
       "      <th>congress</th>\n",
       "      <th>chamber</th>\n",
       "      <th>rollnumber</th>\n",
       "      <th>icpsr</th>\n",
       "      <th>cast_code</th>\n",
       "      <th>prob</th>\n",
       "    </tr>\n",
       "  </thead>\n",
       "  <tbody>\n",
       "    <tr>\n",
       "      <th>0</th>\n",
       "      <td>118</td>\n",
       "      <td>House</td>\n",
       "      <td>1</td>\n",
       "      <td>14854</td>\n",
       "      <td>6</td>\n",
       "      <td>100.0</td>\n",
       "    </tr>\n",
       "    <tr>\n",
       "      <th>1</th>\n",
       "      <td>118</td>\n",
       "      <td>House</td>\n",
       "      <td>1</td>\n",
       "      <td>14863</td>\n",
       "      <td>6</td>\n",
       "      <td>98.2</td>\n",
       "    </tr>\n",
       "    <tr>\n",
       "      <th>2</th>\n",
       "      <td>118</td>\n",
       "      <td>House</td>\n",
       "      <td>1</td>\n",
       "      <td>14873</td>\n",
       "      <td>1</td>\n",
       "      <td>100.0</td>\n",
       "    </tr>\n",
       "    <tr>\n",
       "      <th>3</th>\n",
       "      <td>118</td>\n",
       "      <td>House</td>\n",
       "      <td>1</td>\n",
       "      <td>15029</td>\n",
       "      <td>1</td>\n",
       "      <td>100.0</td>\n",
       "    </tr>\n",
       "    <tr>\n",
       "      <th>4</th>\n",
       "      <td>118</td>\n",
       "      <td>House</td>\n",
       "      <td>1</td>\n",
       "      <td>15433</td>\n",
       "      <td>1</td>\n",
       "      <td>100.0</td>\n",
       "    </tr>\n",
       "    <tr>\n",
       "      <th>...</th>\n",
       "      <td>...</td>\n",
       "      <td>...</td>\n",
       "      <td>...</td>\n",
       "      <td>...</td>\n",
       "      <td>...</td>\n",
       "      <td>...</td>\n",
       "    </tr>\n",
       "    <tr>\n",
       "      <th>486659</th>\n",
       "      <td>118</td>\n",
       "      <td>House</td>\n",
       "      <td>1118</td>\n",
       "      <td>31101</td>\n",
       "      <td>6</td>\n",
       "      <td>100.0</td>\n",
       "    </tr>\n",
       "    <tr>\n",
       "      <th>486660</th>\n",
       "      <td>118</td>\n",
       "      <td>House</td>\n",
       "      <td>1118</td>\n",
       "      <td>31102</td>\n",
       "      <td>9</td>\n",
       "      <td>99.6</td>\n",
       "    </tr>\n",
       "    <tr>\n",
       "      <th>486661</th>\n",
       "      <td>118</td>\n",
       "      <td>House</td>\n",
       "      <td>1118</td>\n",
       "      <td>39301</td>\n",
       "      <td>6</td>\n",
       "      <td>100.0</td>\n",
       "    </tr>\n",
       "    <tr>\n",
       "      <th>486662</th>\n",
       "      <td>118</td>\n",
       "      <td>House</td>\n",
       "      <td>1118</td>\n",
       "      <td>39307</td>\n",
       "      <td>6</td>\n",
       "      <td>100.0</td>\n",
       "    </tr>\n",
       "    <tr>\n",
       "      <th>486663</th>\n",
       "      <td>118</td>\n",
       "      <td>House</td>\n",
       "      <td>1118</td>\n",
       "      <td>91980</td>\n",
       "      <td>1</td>\n",
       "      <td>99.1</td>\n",
       "    </tr>\n",
       "  </tbody>\n",
       "</table>\n",
       "<p>486664 rows × 6 columns</p>\n",
       "</div>"
      ],
      "text/plain": [
       "        congress chamber  rollnumber  icpsr  cast_code   prob\n",
       "0            118   House           1  14854          6  100.0\n",
       "1            118   House           1  14863          6   98.2\n",
       "2            118   House           1  14873          1  100.0\n",
       "3            118   House           1  15029          1  100.0\n",
       "4            118   House           1  15433          1  100.0\n",
       "...          ...     ...         ...    ...        ...    ...\n",
       "486659       118   House        1118  31101          6  100.0\n",
       "486660       118   House        1118  31102          9   99.6\n",
       "486661       118   House        1118  39301          6  100.0\n",
       "486662       118   House        1118  39307          6  100.0\n",
       "486663       118   House        1118  91980          1   99.1\n",
       "\n",
       "[486664 rows x 6 columns]"
      ]
     },
     "execution_count": 14,
     "metadata": {},
     "output_type": "execute_result"
    }
   ],
   "source": [
    "house"
   ]
  },
  {
   "cell_type": "code",
   "execution_count": 16,
   "id": "bfa94d7c-1fe8-4543-83df-65490faaee71",
   "metadata": {},
   "outputs": [],
   "source": [
    "house = house[[\"rollnumber\", \"icpsr\", \"cast_code\"]]"
   ]
  },
  {
   "cell_type": "code",
   "execution_count": 17,
   "id": "f04a3e75-e023-4df5-81bd-3abbaa0cb74b",
   "metadata": {},
   "outputs": [],
   "source": [
    "house_mat = pd.merge(house, house, on=\"rollnumber\")"
   ]
  },
  {
   "cell_type": "code",
   "execution_count": 19,
   "id": "49a8c9b0-e73e-4596-b47f-5c42c49d4d9f",
   "metadata": {},
   "outputs": [
    {
     "data": {
      "text/plain": [
       "211856536"
      ]
     },
     "execution_count": 19,
     "metadata": {},
     "output_type": "execute_result"
    }
   ],
   "source": [
    "len(house_mat)"
   ]
  },
  {
   "cell_type": "code",
   "execution_count": 20,
   "id": "f146c39c-a00d-4514-a064-4ef29e1bdde9",
   "metadata": {},
   "outputs": [],
   "source": [
    "house_mat[\"agree\"] = house_mat[\"cast_code_x\"] == house_mat[\"cast_code_y\"]"
   ]
  },
  {
   "cell_type": "code",
   "execution_count": 22,
   "id": "e49348f8-9876-46e9-99c2-4d9d6fa0c218",
   "metadata": {},
   "outputs": [],
   "source": [
    "house_mat = house_mat.groupby([\"icpsr_x\", \"icpsr_y\"]).agg({\"agree\": \"mean\"})"
   ]
  },
  {
   "cell_type": "code",
   "execution_count": 23,
   "id": "9bd753e6-a5ff-4962-b02e-db4fabc9a661",
   "metadata": {},
   "outputs": [],
   "source": [
    "house_mat = house_mat.reset_index()"
   ]
  },
  {
   "cell_type": "code",
   "execution_count": 24,
   "id": "e0fd76e9-1101-46dc-b079-1104ea9425da",
   "metadata": {},
   "outputs": [
    {
     "data": {
      "text/html": [
       "<div>\n",
       "<style scoped>\n",
       "    .dataframe tbody tr th:only-of-type {\n",
       "        vertical-align: middle;\n",
       "    }\n",
       "\n",
       "    .dataframe tbody tr th {\n",
       "        vertical-align: top;\n",
       "    }\n",
       "\n",
       "    .dataframe thead th {\n",
       "        text-align: right;\n",
       "    }\n",
       "</style>\n",
       "<table border=\"1\" class=\"dataframe\">\n",
       "  <thead>\n",
       "    <tr style=\"text-align: right;\">\n",
       "      <th></th>\n",
       "      <th>icpsr_x</th>\n",
       "      <th>icpsr_y</th>\n",
       "      <th>agree</th>\n",
       "    </tr>\n",
       "  </thead>\n",
       "  <tbody>\n",
       "    <tr>\n",
       "      <th>0</th>\n",
       "      <td>14854</td>\n",
       "      <td>14854</td>\n",
       "      <td>1.000000</td>\n",
       "    </tr>\n",
       "    <tr>\n",
       "      <th>1</th>\n",
       "      <td>14854</td>\n",
       "      <td>14863</td>\n",
       "      <td>0.830948</td>\n",
       "    </tr>\n",
       "    <tr>\n",
       "      <th>2</th>\n",
       "      <td>14854</td>\n",
       "      <td>14873</td>\n",
       "      <td>0.386404</td>\n",
       "    </tr>\n",
       "    <tr>\n",
       "      <th>3</th>\n",
       "      <td>14854</td>\n",
       "      <td>15029</td>\n",
       "      <td>0.412343</td>\n",
       "    </tr>\n",
       "    <tr>\n",
       "      <th>4</th>\n",
       "      <td>14854</td>\n",
       "      <td>15433</td>\n",
       "      <td>0.366726</td>\n",
       "    </tr>\n",
       "    <tr>\n",
       "      <th>...</th>\n",
       "      <td>...</td>\n",
       "      <td>...</td>\n",
       "      <td>...</td>\n",
       "    </tr>\n",
       "    <tr>\n",
       "      <th>200607</th>\n",
       "      <td>91980</td>\n",
       "      <td>31102</td>\n",
       "      <td>0.731664</td>\n",
       "    </tr>\n",
       "    <tr>\n",
       "      <th>200608</th>\n",
       "      <td>91980</td>\n",
       "      <td>31103</td>\n",
       "      <td>0.190805</td>\n",
       "    </tr>\n",
       "    <tr>\n",
       "      <th>200609</th>\n",
       "      <td>91980</td>\n",
       "      <td>39301</td>\n",
       "      <td>0.236136</td>\n",
       "    </tr>\n",
       "    <tr>\n",
       "      <th>200610</th>\n",
       "      <td>91980</td>\n",
       "      <td>39307</td>\n",
       "      <td>0.239714</td>\n",
       "    </tr>\n",
       "    <tr>\n",
       "      <th>200611</th>\n",
       "      <td>91980</td>\n",
       "      <td>91980</td>\n",
       "      <td>1.000000</td>\n",
       "    </tr>\n",
       "  </tbody>\n",
       "</table>\n",
       "<p>200612 rows × 3 columns</p>\n",
       "</div>"
      ],
      "text/plain": [
       "        icpsr_x  icpsr_y     agree\n",
       "0         14854    14854  1.000000\n",
       "1         14854    14863  0.830948\n",
       "2         14854    14873  0.386404\n",
       "3         14854    15029  0.412343\n",
       "4         14854    15433  0.366726\n",
       "...         ...      ...       ...\n",
       "200607    91980    31102  0.731664\n",
       "200608    91980    31103  0.190805\n",
       "200609    91980    39301  0.236136\n",
       "200610    91980    39307  0.239714\n",
       "200611    91980    91980  1.000000\n",
       "\n",
       "[200612 rows x 3 columns]"
      ]
     },
     "execution_count": 24,
     "metadata": {},
     "output_type": "execute_result"
    }
   ],
   "source": [
    "house_mat"
   ]
  },
  {
   "cell_type": "code",
   "execution_count": 25,
   "id": "0361fff7-8e01-4b88-b68d-853d7f8057b7",
   "metadata": {},
   "outputs": [],
   "source": [
    "ideo = ct.get_ideology()"
   ]
  },
  {
   "cell_type": "code",
   "execution_count": 26,
   "id": "6ca8146c-80fb-43d6-b4cb-2c9136e01b21",
   "metadata": {},
   "outputs": [],
   "source": [
    "members = ideo[[\"bioname\", \"icpsr\", \"party_code\"]]"
   ]
  },
  {
   "cell_type": "code",
   "execution_count": 27,
   "id": "93a59c4b-6dd5-4797-b7ca-1f216e47252a",
   "metadata": {},
   "outputs": [
    {
     "data": {
      "text/html": [
       "<div>\n",
       "<style scoped>\n",
       "    .dataframe tbody tr th:only-of-type {\n",
       "        vertical-align: middle;\n",
       "    }\n",
       "\n",
       "    .dataframe tbody tr th {\n",
       "        vertical-align: top;\n",
       "    }\n",
       "\n",
       "    .dataframe thead th {\n",
       "        text-align: right;\n",
       "    }\n",
       "</style>\n",
       "<table border=\"1\" class=\"dataframe\">\n",
       "  <thead>\n",
       "    <tr style=\"text-align: right;\">\n",
       "      <th></th>\n",
       "      <th>bioname</th>\n",
       "      <th>icpsr</th>\n",
       "      <th>party_code</th>\n",
       "    </tr>\n",
       "  </thead>\n",
       "  <tbody>\n",
       "    <tr>\n",
       "      <th>0</th>\n",
       "      <td>ROGERS, Mike Dennis</td>\n",
       "      <td>20301</td>\n",
       "      <td>200</td>\n",
       "    </tr>\n",
       "    <tr>\n",
       "      <th>1</th>\n",
       "      <td>SEWELL, Terri</td>\n",
       "      <td>21102</td>\n",
       "      <td>100</td>\n",
       "    </tr>\n",
       "    <tr>\n",
       "      <th>2</th>\n",
       "      <td>PALMER, Gary James</td>\n",
       "      <td>21500</td>\n",
       "      <td>200</td>\n",
       "    </tr>\n",
       "    <tr>\n",
       "      <th>3</th>\n",
       "      <td>CARL, Jerry L.</td>\n",
       "      <td>22108</td>\n",
       "      <td>200</td>\n",
       "    </tr>\n",
       "    <tr>\n",
       "      <th>4</th>\n",
       "      <td>MOORE, Barry</td>\n",
       "      <td>22140</td>\n",
       "      <td>200</td>\n",
       "    </tr>\n",
       "    <tr>\n",
       "      <th>...</th>\n",
       "      <td>...</td>\n",
       "      <td>...</td>\n",
       "      <td>...</td>\n",
       "    </tr>\n",
       "    <tr>\n",
       "      <th>443</th>\n",
       "      <td>STEIL, Bryan</td>\n",
       "      <td>21970</td>\n",
       "      <td>200</td>\n",
       "    </tr>\n",
       "    <tr>\n",
       "      <th>444</th>\n",
       "      <td>TIFFANY, Thomas P.</td>\n",
       "      <td>21989</td>\n",
       "      <td>200</td>\n",
       "    </tr>\n",
       "    <tr>\n",
       "      <th>445</th>\n",
       "      <td>FITZGERALD, Scott</td>\n",
       "      <td>22115</td>\n",
       "      <td>200</td>\n",
       "    </tr>\n",
       "    <tr>\n",
       "      <th>446</th>\n",
       "      <td>VAN ORDEN, Derrick</td>\n",
       "      <td>22370</td>\n",
       "      <td>200</td>\n",
       "    </tr>\n",
       "    <tr>\n",
       "      <th>447</th>\n",
       "      <td>HAGEMAN, Harriet</td>\n",
       "      <td>22325</td>\n",
       "      <td>200</td>\n",
       "    </tr>\n",
       "  </tbody>\n",
       "</table>\n",
       "<p>448 rows × 3 columns</p>\n",
       "</div>"
      ],
      "text/plain": [
       "                 bioname  icpsr  party_code\n",
       "0    ROGERS, Mike Dennis  20301         200\n",
       "1          SEWELL, Terri  21102         100\n",
       "2     PALMER, Gary James  21500         200\n",
       "3         CARL, Jerry L.  22108         200\n",
       "4           MOORE, Barry  22140         200\n",
       "..                   ...    ...         ...\n",
       "443         STEIL, Bryan  21970         200\n",
       "444   TIFFANY, Thomas P.  21989         200\n",
       "445    FITZGERALD, Scott  22115         200\n",
       "446   VAN ORDEN, Derrick  22370         200\n",
       "447     HAGEMAN, Harriet  22325         200\n",
       "\n",
       "[448 rows x 3 columns]"
      ]
     },
     "execution_count": 27,
     "metadata": {},
     "output_type": "execute_result"
    }
   ],
   "source": [
    "members"
   ]
  }
 ],
 "metadata": {
  "kernelspec": {
   "display_name": "contrans2024",
   "language": "python",
   "name": "contrans2024"
  },
  "language_info": {
   "codemirror_mode": {
    "name": "ipython",
    "version": 3
   },
   "file_extension": ".py",
   "mimetype": "text/x-python",
   "name": "python",
   "nbconvert_exporter": "python",
   "pygments_lexer": "ipython3",
   "version": "3.12.6"
  }
 },
 "nbformat": 4,
 "nbformat_minor": 5
}
